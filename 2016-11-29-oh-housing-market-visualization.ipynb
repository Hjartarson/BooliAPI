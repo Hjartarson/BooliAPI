{
 "cells": [
  {
   "cell_type": "code",
   "execution_count": 1,
   "metadata": {
    "collapsed": false
   },
   "outputs": [
    {
     "ename": "ImportError",
     "evalue": "No module named 'mpl_toolkits.basemap'",
     "output_type": "error",
     "traceback": [
      "\u001b[1;31m\u001b[0m",
      "\u001b[1;31mImportError\u001b[0mTraceback (most recent call last)",
      "\u001b[1;32m<ipython-input-1-a5a9544bd500>\u001b[0m in \u001b[0;36m<module>\u001b[1;34m()\u001b[0m\n\u001b[0;32m      6\u001b[0m \u001b[1;32mimport\u001b[0m \u001b[0mdatetime\u001b[0m\u001b[1;33m\u001b[0m\u001b[0m\n\u001b[0;32m      7\u001b[0m \u001b[1;32mfrom\u001b[0m \u001b[0mhashlib\u001b[0m \u001b[1;32mimport\u001b[0m \u001b[0msha1\u001b[0m\u001b[1;33m\u001b[0m\u001b[0m\n\u001b[1;32m----> 8\u001b[1;33m \u001b[1;32mfrom\u001b[0m \u001b[0mmpl_toolkits\u001b[0m\u001b[1;33m.\u001b[0m\u001b[0mbasemap\u001b[0m \u001b[1;32mimport\u001b[0m \u001b[0mBasemap\u001b[0m\u001b[1;33m\u001b[0m\u001b[0m\n\u001b[0m\u001b[0;32m      9\u001b[0m \u001b[1;32mimport\u001b[0m \u001b[0mrandom\u001b[0m\u001b[1;33m\u001b[0m\u001b[0m\n\u001b[0;32m     10\u001b[0m \u001b[1;32mimport\u001b[0m \u001b[0mstring\u001b[0m\u001b[1;33m\u001b[0m\u001b[0m\n",
      "\u001b[1;31mImportError\u001b[0m: No module named 'mpl_toolkits.basemap'"
     ]
    }
   ],
   "source": [
    "import matplotlib.pyplot as plt\n",
    "%matplotlib inline\n",
    "import http.client\n",
    "from urllib.parse import urlencode, quote\n",
    "import time\n",
    "import datetime\n",
    "from hashlib import sha1\n",
    "from mpl_toolkits.basemap import Basemap\n",
    "import random\n",
    "import string\n",
    "import os\n",
    "import sys\n",
    "import urllib as ul\n",
    "import json\n",
    "import numpy as np\n",
    "import seaborn as sns\n",
    "import numpy as np\n",
    "import pandas as pd\n",
    "from geopy.geocoders import Nominatim\n",
    "from IPython.core.display import display, HTML, Image\n",
    "Image(url='https://bcdn.se/images/resources/booli_logo.png')"
   ]
  },
  {
   "cell_type": "code",
   "execution_count": 5,
   "metadata": {
    "collapsed": false
   },
   "outputs": [
    {
     "name": "stdout",
     "output_type": "stream",
     "text": [
      "<class 'pandas.core.frame.DataFrame'>\n",
      "Int64Index: 8069 entries, 2210130 to 2013014\n",
      "Data columns (total 29 columns):\n",
      "additionalArea         8069 non-null float64\n",
      "booliId                8069 non-null int64\n",
      "constructionYear       7796 non-null float64\n",
      "floor                  7462 non-null float64\n",
      "isNewConstruction      8069 non-null float64\n",
      "listPrice              8007 non-null float64\n",
      "livingArea             8059 non-null float64\n",
      "location               8069 non-null object\n",
      "objectType             8069 non-null object\n",
      "published              8069 non-null object\n",
      "rent                   8041 non-null float64\n",
      "rooms                  8064 non-null float64\n",
      "soldDate               8069 non-null datetime64[ns]\n",
      "soldPrice              8069 non-null int64\n",
      "source                 8069 non-null object\n",
      "url                    8069 non-null object\n",
      "namedAreas             8069 non-null object\n",
      "streetAddress          8069 non-null object\n",
      "streetAddressNumber    8069 non-null object\n",
      "streetAddressName      8069 non-null object\n",
      "broker                 8069 non-null object\n",
      "ocean                  8048 non-null float64\n",
      "coordinates            8069 non-null object\n",
      "soldMonth              8069 non-null object\n",
      "soldPriceSqm           8059 non-null float64\n",
      "geolocation            8069 non-null object\n",
      "suburb                 7973 non-null object\n",
      "neighbourhood          2845 non-null object\n",
      "city_district          8069 non-null object\n",
      "dtypes: datetime64[ns](1), float64(10), int64(2), object(16)\n",
      "memory usage: 1.8+ MB\n"
     ]
    }
   ],
   "source": [
    "# Load the dataframe\n",
    "%store -r df\n",
    "df.info()"
   ]
  },
  {
   "cell_type": "markdown",
   "metadata": {},
   "source": [
    "# 2. Visulization"
   ]
  },
  {
   "cell_type": "code",
   "execution_count": 2,
   "metadata": {
    "collapsed": false
   },
   "outputs": [
    {
     "ename": "NameError",
     "evalue": "name 'plt' is not defined",
     "output_type": "error",
     "traceback": [
      "\u001b[1;31m\u001b[0m",
      "\u001b[1;31mNameError\u001b[0mTraceback (most recent call last)",
      "\u001b[1;32m<ipython-input-2-3f6323c66844>\u001b[0m in \u001b[0;36m<module>\u001b[1;34m()\u001b[0m\n\u001b[0;32m      1\u001b[0m \u001b[1;31m#Set style\u001b[0m\u001b[1;33m\u001b[0m\u001b[1;33m\u001b[0m\u001b[0m\n\u001b[1;32m----> 2\u001b[1;33m \u001b[0mplt\u001b[0m\u001b[1;33m.\u001b[0m\u001b[0mstyle\u001b[0m\u001b[1;33m.\u001b[0m\u001b[0muse\u001b[0m\u001b[1;33m(\u001b[0m\u001b[1;34m'fivethirtyeight'\u001b[0m\u001b[1;33m)\u001b[0m\u001b[1;33m\u001b[0m\u001b[0m\n\u001b[0m\u001b[0;32m      3\u001b[0m \u001b[1;33m\u001b[0m\u001b[0m\n\u001b[0;32m      4\u001b[0m \u001b[0mplt\u001b[0m\u001b[1;33m.\u001b[0m\u001b[0mrc\u001b[0m\u001b[1;33m(\u001b[0m\u001b[1;34m'grid'\u001b[0m\u001b[1;33m,\u001b[0m \u001b[0mlinestyle\u001b[0m\u001b[1;33m=\u001b[0m\u001b[1;34m\"--\"\u001b[0m\u001b[1;33m,\u001b[0m\u001b[0malpha\u001b[0m \u001b[1;33m=\u001b[0m \u001b[1;36m0.8\u001b[0m\u001b[1;33m)\u001b[0m\u001b[1;33m\u001b[0m\u001b[0m\n\u001b[0;32m      5\u001b[0m \u001b[0mplt\u001b[0m\u001b[1;33m.\u001b[0m\u001b[0mrc\u001b[0m\u001b[1;33m(\u001b[0m\u001b[1;34m'font'\u001b[0m\u001b[1;33m,\u001b[0m \u001b[0msize\u001b[0m\u001b[1;33m=\u001b[0m\u001b[1;36m14\u001b[0m\u001b[1;33m,\u001b[0m \u001b[0mfamily\u001b[0m\u001b[1;33m=\u001b[0m\u001b[1;34m'sans-serif'\u001b[0m\u001b[1;33m,\u001b[0m\u001b[0mstyle\u001b[0m\u001b[1;33m=\u001b[0m\u001b[1;34m'normal'\u001b[0m\u001b[1;33m,\u001b[0m\u001b[0mweight\u001b[0m\u001b[1;33m=\u001b[0m\u001b[1;34m'normal'\u001b[0m\u001b[1;33m)\u001b[0m\u001b[1;33m\u001b[0m\u001b[0m\n",
      "\u001b[1;31mNameError\u001b[0m: name 'plt' is not defined"
     ]
    }
   ],
   "source": [
    "#Set style\n",
    "plt.style.use('fivethirtyeight')\n",
    "\n",
    "plt.rc('grid', linestyle=\"--\",alpha = 0.8)\n",
    "plt.rc('font', size=14, family='sans-serif',style='normal',weight='normal')\n",
    "plt.rc('legend', frameon=False,fontsize=14)\n",
    "plt.rc('axes', labelsize=16, titlesize=20)\n",
    "plt.rc('figure', figsize=(16,8),titlesize=20,facecolor ='white')\n",
    "plt.rc('xtick', labelsize=14)\n",
    "plt.rc('ytick', labelsize=14)\n",
    "plt.rc('lines', linewidth=3)\n",
    "plt.rcParams['axes.formatter.limits'] = (-4,4)"
   ]
  },
  {
   "cell_type": "markdown",
   "metadata": {},
   "source": [
    "## 2.1 The Time Serie\n",
    "How has the prices develop in time?"
   ]
  },
  {
   "cell_type": "code",
   "execution_count": 3,
   "metadata": {
    "collapsed": false
   },
   "outputs": [
    {
     "ename": "NameError",
     "evalue": "name 'plt' is not defined",
     "output_type": "error",
     "traceback": [
      "\u001b[1;31m\u001b[0m",
      "\u001b[1;31mNameError\u001b[0mTraceback (most recent call last)",
      "\u001b[1;32m<ipython-input-3-76f4dd07764f>\u001b[0m in \u001b[0;36m<module>\u001b[1;34m()\u001b[0m\n\u001b[1;32m----> 1\u001b[1;33m \u001b[0mf\u001b[0m\u001b[1;33m,\u001b[0m \u001b[0max\u001b[0m \u001b[1;33m=\u001b[0m \u001b[0mplt\u001b[0m\u001b[1;33m.\u001b[0m\u001b[0msubplots\u001b[0m\u001b[1;33m(\u001b[0m\u001b[1;36m3\u001b[0m\u001b[1;33m,\u001b[0m\u001b[1;36m2\u001b[0m\u001b[1;33m,\u001b[0m\u001b[0msharex\u001b[0m \u001b[1;33m=\u001b[0m \u001b[1;32mTrue\u001b[0m\u001b[1;33m)\u001b[0m\u001b[1;33m\u001b[0m\u001b[0m\n\u001b[0m\u001b[0;32m      2\u001b[0m agg = {'soldPrice':{'mean':'mean'},\n\u001b[0;32m      3\u001b[0m        \u001b[1;34m'soldPriceSqm'\u001b[0m\u001b[1;33m:\u001b[0m\u001b[1;33m{\u001b[0m\u001b[1;34m'mean'\u001b[0m\u001b[1;33m:\u001b[0m\u001b[1;34m'mean'\u001b[0m\u001b[1;33m}\u001b[0m\u001b[1;33m,\u001b[0m\u001b[1;33m\u001b[0m\u001b[0m\n\u001b[0;32m      4\u001b[0m        \u001b[1;34m'listPriceSqm'\u001b[0m\u001b[1;33m:\u001b[0m\u001b[1;33m{\u001b[0m\u001b[1;34m'mean'\u001b[0m\u001b[1;33m:\u001b[0m\u001b[1;34m'mean'\u001b[0m\u001b[1;33m}\u001b[0m\u001b[1;33m,\u001b[0m\u001b[1;33m\u001b[0m\u001b[0m\n\u001b[0;32m      5\u001b[0m        \u001b[1;34m'livingArea'\u001b[0m\u001b[1;33m:\u001b[0m\u001b[1;33m{\u001b[0m\u001b[1;34m'mean'\u001b[0m\u001b[1;33m:\u001b[0m\u001b[1;34m'mean'\u001b[0m\u001b[1;33m}\u001b[0m\u001b[1;33m,\u001b[0m\u001b[1;33m\u001b[0m\u001b[0m\n",
      "\u001b[1;31mNameError\u001b[0m: name 'plt' is not defined"
     ]
    }
   ],
   "source": [
    "f, ax = plt.subplots(3,2,sharex = True)\n",
    "agg = {'soldPrice':{'mean':'mean'},\n",
    "       'soldPriceSqm':{'mean':'mean'},\n",
    "       'listPriceSqm':{'mean':'mean'},\n",
    "       'livingArea':{'mean':'mean'},\n",
    "       'booliId':{'count':'count'},\n",
    "       'rent':{'mean':'mean'}}\n",
    "df.groupby('soldMonth').agg(agg).plot(ax=ax, kind='line',title='Average price and size',subplots=True)\n",
    "plt.show()"
   ]
  },
  {
   "cell_type": "markdown",
   "metadata": {},
   "source": [
    "## 2.2 Construction Year distribution"
   ]
  },
  {
   "cell_type": "code",
   "execution_count": 4,
   "metadata": {
    "collapsed": false
   },
   "outputs": [
    {
     "ename": "NameError",
     "evalue": "name 'df' is not defined",
     "output_type": "error",
     "traceback": [
      "\u001b[1;31m\u001b[0m",
      "\u001b[1;31mNameError\u001b[0mTraceback (most recent call last)",
      "\u001b[1;32m<ipython-input-4-de8efdd384a1>\u001b[0m in \u001b[0;36m<module>\u001b[1;34m()\u001b[0m\n\u001b[0;32m      1\u001b[0m \u001b[0mbinyears\u001b[0m \u001b[1;33m=\u001b[0m \u001b[1;36m10\u001b[0m\u001b[1;33m\u001b[0m\u001b[0m\n\u001b[1;32m----> 2\u001b[1;33m df['constructionYear'].plot(kind = 'hist',\n\u001b[0m\u001b[0;32m      3\u001b[0m                             \u001b[0mbins\u001b[0m \u001b[1;33m=\u001b[0m \u001b[0mint\u001b[0m\u001b[1;33m(\u001b[0m\u001b[1;33m(\u001b[0m\u001b[0mconstructionYearRange\u001b[0m\u001b[1;33m[\u001b[0m\u001b[1;36m1\u001b[0m\u001b[1;33m]\u001b[0m\u001b[1;33m-\u001b[0m\u001b[0mconstructionYearRange\u001b[0m\u001b[1;33m[\u001b[0m\u001b[1;36m0\u001b[0m\u001b[1;33m]\u001b[0m\u001b[1;33m)\u001b[0m\u001b[1;33m/\u001b[0m\u001b[0mbinyears\u001b[0m\u001b[1;33m)\u001b[0m\u001b[1;33m,\u001b[0m\u001b[1;33m\u001b[0m\u001b[0m\n\u001b[0;32m      4\u001b[0m                             \u001b[0mxlim\u001b[0m \u001b[1;33m=\u001b[0m \u001b[0mconstructionYearRange\u001b[0m\u001b[1;33m,\u001b[0m\u001b[1;33m\u001b[0m\u001b[0m\n\u001b[0;32m      5\u001b[0m                             \u001b[0mxticks\u001b[0m\u001b[1;33m=\u001b[0m\u001b[0mnp\u001b[0m\u001b[1;33m.\u001b[0m\u001b[0marange\u001b[0m\u001b[1;33m(\u001b[0m\u001b[0mconstructionYearRange\u001b[0m\u001b[1;33m[\u001b[0m\u001b[1;36m0\u001b[0m\u001b[1;33m]\u001b[0m\u001b[1;33m,\u001b[0m\u001b[0mconstructionYearRange\u001b[0m\u001b[1;33m[\u001b[0m\u001b[1;36m1\u001b[0m\u001b[1;33m]\u001b[0m\u001b[1;33m,\u001b[0m\u001b[0mbinyears\u001b[0m\u001b[1;33m)\u001b[0m\u001b[1;33m,\u001b[0m\u001b[1;33m\u001b[0m\u001b[0m\n",
      "\u001b[1;31mNameError\u001b[0m: name 'df' is not defined"
     ]
    }
   ],
   "source": [
    "binyears = 10\n",
    "df['constructionYear'].plot(kind = 'hist',\n",
    "                            bins = int((constructionYearRange[1]-constructionYearRange[0])/binyears),\n",
    "                            xlim = constructionYearRange,\n",
    "                            xticks=np.arange(constructionYearRange[0],constructionYearRange[1],binyears),\n",
    "                            rot = 90,\n",
    "                            title = 'construction year')\n",
    "plt.show()"
   ]
  },
  {
   "cell_type": "markdown",
   "metadata": {},
   "source": [
    "## 2.3. Area & Broker information\n",
    "Which areas are the most expensive? Or which broker have the biggest difference between list price and sold price?"
   ]
  },
  {
   "cell_type": "code",
   "execution_count": null,
   "metadata": {
    "collapsed": true
   },
   "outputs": [],
   "source": [
    "# Start with city_district\n",
    "f,ax = plt.subplots(1,2)\n",
    "sns.boxplot(x = 'city_district',y='soldPriceSqm',data = df,ax = ax[0])\n",
    "plt.xticks(rotation=90)\n",
    "sns.boxplot(x = 'suburb',y='soldPriceSqm',data = df,ax = ax[1])\n",
    "#ax.set_title('city_district boxplot')\n",
    "plt.sca(ax[0])\n",
    "plt.xticks(rotation=90)\n",
    "plt.sca(ax[1])\n",
    "plt.xticks(rotation=90)\n",
    "plt.show()"
   ]
  },
  {
   "cell_type": "code",
   "execution_count": null,
   "metadata": {
    "collapsed": true
   },
   "outputs": [],
   "source": [
    "# Reaggregate\n",
    "namedAreas = df.groupby('namedAreas').agg(agg)\n",
    "# Plot what we got, only areas with more than 10 objects\n",
    "namedAreas = namedAreas[namedAreas.loc[:,('namedAreas','count')]>10].sort_values(by=('soldPriceSqm','mean'), ascending = False)\n",
    "df_area = df[df['namedAreas'].isin(namedAreas.index.values)]\n",
    "sns.boxplot(x = 'namedAreas',y='soldPriceSqm',data = df_area)\n",
    "xt = plt.xticks(rotation=90)"
   ]
  },
  {
   "cell_type": "code",
   "execution_count": null,
   "metadata": {
    "collapsed": true
   },
   "outputs": [],
   "source": [
    "agg = {'broker':{'count':'count'},\n",
    "       'soldPriceSqm':{'mean':'mean'},\n",
    "       'soldPrice':{'mean':'mean'},\n",
    "       'listPrice':{'mean':'mean'},\n",
    "       'changedPrice':{'mean':'mean'},\n",
    "       'changedPriceSqm':{'mean':'mean'}}\n",
    "broker = df.groupby('broker').agg(agg)"
   ]
  },
  {
   "cell_type": "code",
   "execution_count": null,
   "metadata": {
    "collapsed": true
   },
   "outputs": [],
   "source": [
    "#Look only at larger brokers\n",
    "broker = broker[broker.loc[:,('broker','count')]>10]\n",
    "df_broker = df[df.loc[:,'broker'].isin(broker.index.values)]\n",
    "broker = df_broker.groupby('broker').agg(agg)"
   ]
  },
  {
   "cell_type": "code",
   "execution_count": null,
   "metadata": {
    "collapsed": true
   },
   "outputs": [],
   "source": [
    "#Look only at larger brokers\n",
    "broker = broker[broker.loc[:,('broker','count')]>10]\n",
    "df_broker = df[df.loc[:,'broker'].isin(broker.index.values)]\n",
    "broker = df_broker.groupby('broker').agg(agg)"
   ]
  },
  {
   "cell_type": "code",
   "execution_count": null,
   "metadata": {
    "collapsed": true
   },
   "outputs": [],
   "source": [
    "sns.boxplot(x = 'broker',y='soldPriceSqm',data = df_broker)\n",
    "plt.xticks(rotation=90)\n",
    "plt.title('Broker sqm-price')\n",
    "plt.show()"
   ]
  },
  {
   "cell_type": "code",
   "execution_count": null,
   "metadata": {
    "collapsed": true
   },
   "outputs": [],
   "source": [
    "sns.boxplot(x = 'broker',y='soldPriceSqm',data = df_broker)\n",
    "plt.xticks(rotation=90)\n",
    "plt.title('Broker sqm-price')\n",
    "plt.show()"
   ]
  },
  {
   "cell_type": "markdown",
   "metadata": {},
   "source": [
    "The sold price per square meter had a dip in June, but the brokers listed price did not change from the month before leading to a big drop in the difference between the sold price and listed price (orange line above)."
   ]
  },
  {
   "cell_type": "code",
   "execution_count": null,
   "metadata": {
    "collapsed": true
   },
   "outputs": [],
   "source": [
    "#Check the broker distribution\n",
    "f, ax = plt.subplots(1, 1)\n",
    "(\n",
    "    broker[('changedPrice','mean')].\n",
    "    sort_values(ascending=False).\n",
    "    plot(kind='bar',ax=ax,title='Average changedPrice')\n",
    ")\n",
    "plt.show()"
   ]
  },
  {
   "cell_type": "code",
   "execution_count": null,
   "metadata": {
    "collapsed": true
   },
   "outputs": [],
   "source": [
    "# 3. Correlation\n",
    "\n",
    "# Look at distribution\n",
    "df[['soldPrice','soldPriceSqm','rent','ocean']].hist(bins=100)\n",
    "plt.show()\n",
    "\n",
    "# log1p: log(h+1). This ensures that zero values are kept as zero values since log(0) is not defined. \n",
    "prices = pd.DataFrame({\"price\":df[\"soldPrice\"], \"log(price + 1)\":np.log1p(df[\"soldPrice\"])})\n",
    "prices.hist(bins=100)\n",
    "plt.show()\n",
    "\n",
    "## 3.1 Numerical variables, correlation\n",
    "\n",
    "### Take a look at the data\n",
    "\n",
    "f, ax = plt.subplots(3, 2)\n",
    "print(df.columns)\n",
    "df.plot(kind='scatter',x='listPrice',y='soldPrice',ax = ax[0,0],title='listPrice')\n",
    "df.plot(kind='scatter',x='livingArea',y='soldPrice',ax = ax[1,0],title='livingArea')\n",
    "df.plot(kind='scatter',x='rent',y='soldPrice',ax = ax[2,0],title='rent')\n",
    "df.plot(kind='scatter',x='soldPriceSqm',y='soldPrice',ax = ax[0,1],title='soldDate')\n",
    "df.plot(kind='scatter',x='ocean',y='soldPrice',ax = ax[1,1],title='ocean')\n",
    "\n",
    "plt.figure(1)\n",
    "f, ax = plt.subplots(4, 2)\n",
    "price = df['soldPrice'].values\n",
    "ax[0, 0].scatter(df.listPrice.values, price)\n",
    "ax[0, 0].set_title('listPrice')\n",
    "ax[0, 1].scatter(df.livingArea.values, price)\n",
    "ax[0, 1].set_title('livingArea')\n",
    "ax[1, 0].scatter(df.ocean.values, price)\n",
    "ax[1, 0].set_title('ocean')\n",
    "ax[1, 1].scatter(df['constructionYear'].values, price)\n",
    "ax[1, 1].set_title('constructionYear')\n",
    "ax[2, 0].scatter(df.floor.values, price)\n",
    "ax[2, 0].set_title('floor')\n",
    "ax[2, 1].scatter(df.rent.values, price)\n",
    "ax[2, 1].set_title('rent')\n",
    "ax[3, 0].scatter(df.rooms.values, price)\n",
    "ax[3, 0].set_title('rooms')\n",
    "ax[3, 1].scatter(df.ocean.values, price)\n",
    "ax[3, 1].set_title('ocean')\n",
    "f.text(-0.01, 0.5, 'Sale Price', va='center', rotation='vertical', fontsize = 12)\n",
    "plt.tight_layout()\n",
    "plt.show()\n",
    "\n",
    "### Correlation heatmap\n",
    "\n",
    "corr = df.ix[:, ~df.columns.isin(['booliId','isNewConstruction'])].select_dtypes(include = ['float64', 'int64']).corr()\n",
    "plt.figure(figsize=(8, 8))\n",
    "sns.heatmap(corr, vmax=1, square=True)\n",
    "\n",
    "print('Numerical variables Correlation\\n')\n",
    "print(corr['soldPriceSqm'].sort_values(ascending = False))\n",
    "print('--------------------')\n",
    "print(corr['soldPrice'].sort_values(ascending = False))\n",
    "\n",
    "#Select features to check for skewness\n",
    "from scipy.stats import skew\n",
    "#numeric_feats = df.select_dtypes(include = ['float64', 'int64']).index\n",
    "numeric_feats = df.dtypes[df.dtypes == \"float64\"].index\n",
    "skewed_feats = df[numeric_feats].apply(lambda x: skew(x.dropna())) #compute skewness\n",
    "skewed_feats = skewed_feats[skewed_feats > 0.75]\n",
    "skewed_feats = skewed_feats.index\n",
    "print(skewed_feats)\n",
    "dd = np.log1p(df[skewed_feats])\n",
    "dd.hist()"
   ]
  }
 ],
 "metadata": {
  "anaconda-cloud": {},
  "kernelspec": {
   "display_name": "Python [Root]",
   "language": "python",
   "name": "Python [Root]"
  },
  "language_info": {
   "codemirror_mode": {
    "name": "ipython",
    "version": 3
   },
   "file_extension": ".py",
   "mimetype": "text/x-python",
   "name": "python",
   "nbconvert_exporter": "python",
   "pygments_lexer": "ipython3",
   "version": "3.5.2"
  }
 },
 "nbformat": 4,
 "nbformat_minor": 0
}
